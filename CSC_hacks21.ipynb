{
  "nbformat": 4,
  "nbformat_minor": 0,
  "metadata": {
    "colab": {
      "name": "CSC-hacks21.ipynb",
      "provenance": [],
      "collapsed_sections": [],
      "include_colab_link": true
    },
    "kernelspec": {
      "name": "python3",
      "display_name": "Python 3"
    },
    "language_info": {
      "name": "python"
    }
  },
  "cells": [
    {
      "cell_type": "markdown",
      "metadata": {
        "id": "view-in-github",
        "colab_type": "text"
      },
      "source": [
        "<a href=\"https://colab.research.google.com/github/briankim-pitt/CSC-hacks21/blob/main/CSC_hacks21.ipynb\" target=\"_parent\"><img src=\"https://colab.research.google.com/assets/colab-badge.svg\" alt=\"Open In Colab\"/></a>"
      ]
    },
    {
      "cell_type": "code",
      "metadata": {
        "id": "q3tsqt7mG0i2"
      },
      "source": [
        "import requests"
      ],
      "execution_count": null,
      "outputs": []
    },
    {
      "cell_type": "markdown",
      "metadata": {
        "id": "khWg3qcWe0cS"
      },
      "source": [
        "Testing odesli api to fetch song links:"
      ]
    },
    {
      "cell_type": "code",
      "metadata": {
        "id": "ZdhNhn0ce03W"
      },
      "source": [
        "odesli_url = \"https://api.song.link/v1-alpha.1/links?url=spotify%3Atrack%3A0Jcij1eWd5bDMU5iPbxe2i&userCountry=US\"\n",
        "\n",
        "song_r = requests.get(odesli_url)\n",
        "song_r.json()"
      ],
      "execution_count": null,
      "outputs": []
    },
    {
      "cell_type": "markdown",
      "metadata": {
        "id": "TH2yjVxCtpzg"
      },
      "source": [
        "Testing Spotify api:\n",
        "https://developer.spotify.com/documentation/web-api/reference/\n"
      ]
    },
    {
      "cell_type": "code",
      "metadata": {
        "colab": {
          "base_uri": "https://localhost:8080/"
        },
        "id": "HiYJTNy1ttSO",
        "outputId": "6c674dd9-87d1-4fa6-8ee4-e23a87dda536"
      },
      "source": [
        "spotify_url = \"https://api.spotify.com/v1/\"\n",
        "#psure you need an API key \n",
        "spotify_r = requests.get(spotify_url + \"browse/new-releases\")\n",
        "spotify_r.json()"
      ],
      "execution_count": null,
      "outputs": [
        {
          "output_type": "execute_result",
          "data": {
            "text/plain": [
              "{'error': {'message': 'No token provided', 'status': 401}}"
            ]
          },
          "metadata": {},
          "execution_count": 9
        }
      ]
    }
  ]
}